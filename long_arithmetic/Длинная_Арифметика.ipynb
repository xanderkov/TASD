{
  "nbformat": 4,
  "nbformat_minor": 0,
  "metadata": {
    "colab": {
      "name": "Длинная Арифметика.ipynb",
      "provenance": [],
      "collapsed_sections": []
    },
    "kernelspec": {
      "name": "python3",
      "display_name": "Python 3"
    },
    "language_info": {
      "name": "python"
    }
  },
  "cells": [
    {
      "cell_type": "markdown",
      "metadata": {
        "id": "QWScTmQI7bAr"
      },
      "source": [
        "# Описание условие задачи"
      ]
    },
    {
      "cell_type": "markdown",
      "metadata": {
        "id": "BO841gN67dtU"
      },
      "source": [
        "Смоделировать операцию деления действительного числа\n",
        "на действительное число в форме +-m.n Е +-K, где\n",
        "суммарная длина мантиссы (m+n) - до 30 значащих цифр, а\n",
        "величина порядка K - до 5 цифр. Результат выдать в форме\n",
        " +-0.m1 Е +-K1, где m1 - до 30 значащих цифр, а K1 - до 5\n",
        "цифр."
      ]
    },
    {
      "cell_type": "markdown",
      "metadata": {
        "id": "JZffslht8ej6"
      },
      "source": [
        "#  Техническое задание"
      ]
    },
    {
      "cell_type": "markdown",
      "metadata": {
        "id": "0gtGn6wI8wvm"
      },
      "source": [
        "## Исходные данние и результаты"
      ]
    },
    {
      "cell_type": "markdown",
      "metadata": {
        "id": "fqTBQ6vI9Ehb"
      },
      "source": [
        "В первой и второй строке вводится действительное число в форме +-m.n E +-K, где суммарная длина мантиссы (m+n) - до 30 значащих цифр, а величина порядка K - до 5 цифр.\n"
      ]
    },
    {
      "cell_type": "markdown",
      "metadata": {
        "id": "QeOOg-v994BB"
      },
      "source": [
        "Результат выводится в виде действительного числа в формате +-m.n E +-K,               где (m + n) - до 30 значащих цифр, а велична порядка до 5 цифр.\n",
        "\n",
        "В случае некоректного ввода выводится сообщение об ошибке."
      ]
    },
    {
      "cell_type": "markdown",
      "metadata": {
        "id": "5ij77OPn_C-Y"
      },
      "source": [
        "## Требование к входным данным"
      ]
    },
    {
      "cell_type": "markdown",
      "metadata": {
        "id": "c7oug9Q8_HOs"
      },
      "source": [
        "1. Все именованные части чисел m, n, K, N - натуральные числа\n",
        "\n",
        "2. Знаки необязательны\n",
        "\n",
        "3. Числа вводятся без пробелов\n",
        "\n",
        "4. Между n E K обязательно должен находится пробел"
      ]
    },
    {
      "cell_type": "markdown",
      "metadata": {
        "id": "oHAmLror_8XD"
      },
      "source": [
        "## Примеры валидного ввода\n"
      ]
    },
    {
      "cell_type": "markdown",
      "metadata": {
        "id": "eX95DElNAb3a"
      },
      "source": [
        "1234567 Е –20, 1234567 Е 20 или 123.4567 Е 23"
      ]
    },
    {
      "cell_type": "markdown",
      "metadata": {
        "id": "mhQzWD0w-pQo"
      },
      "source": [
        "## Задача"
      ]
    },
    {
      "cell_type": "markdown",
      "metadata": {
        "id": "el03Ug7T-5eh"
      },
      "source": [
        "Реализовать деление двух действительных чисел, которые не могут быть представленны целочисленными типами, при помощи длинной арифметики."
      ]
    },
    {
      "cell_type": "markdown",
      "metadata": {
        "id": "rRvEcR1ECEJL"
      },
      "source": [
        "## Аварийные ситуации"
      ]
    },
    {
      "cell_type": "markdown",
      "metadata": {
        "id": "ULNgMCkjCJyY"
      },
      "source": [
        "В аварийной ситуации выводится сообщение об ошибке. Ошибки: некоректный ввод, переполнение порядка, деление на 0."
      ]
    },
    {
      "cell_type": "markdown",
      "metadata": {
        "id": "1HzuiVXJDcuR"
      },
      "source": [
        "# Внутренние структуры данных"
      ]
    },
    {
      "cell_type": "markdown",
      "metadata": {
        "id": "4Y9g5SknDtG1"
      },
      "source": [
        "Число в программе представляется в виде структуры из четырех полей: знак, число, знак порядка, порядок.\n"
      ]
    },
    {
      "cell_type": "markdown",
      "metadata": {
        "id": "zBeAfmr-Emqz"
      },
      "source": [
        "# Алгоритм"
      ]
    },
    {
      "cell_type": "markdown",
      "metadata": {
        "id": "sde6I6YtEsCj"
      },
      "source": [
        "1. Ввод действтельных чисел, числа проверяются на корректность ввода, если проверка пройдена, то они записываются в структуру данных. \n",
        "\n",
        "2. Операция деление. Перед делением числа нормализуются, после происходит деление нормализованных чисел (деление в столбик), затем вычитание порядков.\n",
        "\n",
        "3. Вывод данных в требуемом формате. Если невозможен вывод в требуемом формате, будет выведена ошибка."
      ]
    },
    {
      "cell_type": "markdown",
      "metadata": {
        "id": "-iSOcWoaIR4X"
      },
      "source": [
        "# Тесты"
      ]
    },
    {
      "cell_type": "markdown",
      "metadata": {
        "id": "7za09qh9IU-v"
      },
      "source": [
        ""
      ]
    },
    {
      "cell_type": "markdown",
      "metadata": {
        "id": "lQ0_qGChIVJz"
      },
      "source": [
        "# Вывод"
      ]
    },
    {
      "cell_type": "markdown",
      "metadata": {
        "id": "PBtgOkWtIXFW"
      },
      "source": [
        "В данной лабораторной работе было реализованна длинная арифметика, которая нужна для чисел, которые невозможно представить стандартном типе данных."
      ]
    }
  ]
}